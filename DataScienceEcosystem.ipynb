{
  "metadata": {
    "kernelspec": {
      "name": "xeus-python",
      "display_name": "Python (XPython)",
      "language": "python"
    },
    "language_info": {
      "file_extension": ".py",
      "mimetype": "text/x-python",
      "name": "python",
      "version": "3.10.2"
    }
  },
  "nbformat_minor": 4,
  "nbformat": 4,
  "cells": [
    {
      "cell_type": "markdown",
      "source": "# Data Science Tools and Ecosystem",
      "metadata": {}
    },
    {
      "cell_type": "markdown",
      "source": "## Author\nGarrett Greene",
      "metadata": {}
    },
    {
      "cell_type": "markdown",
      "source": "In this notebook, data science tools are summarized",
      "metadata": {}
    },
    {
      "cell_type": "markdown",
      "source": "**Objectives:**\n- Data science programming languages\n- Data science tools\n- Arithmetic expressions",
      "metadata": {}
    },
    {
      "cell_type": "markdown",
      "source": "Some examples of data science programming languages include:\n    1: Python\n    2: R\n    3: Scala\n    4: Julia\n    5: SQL\n    6: Java\n    7: Swift\n    8: C/C++\n    9: JavaScript",
      "metadata": {}
    },
    {
      "cell_type": "markdown",
      "source": "Some examples of data science libraries include:\n    1: NumPy\n    2: Pandas\n    3: Matplotlib\n    4: PyTorch\n    5: SciPy\n    6: ggplot\n    7: SciKit Learn\n    8: Keras\n    9: BeautifulSoup",
      "metadata": {}
    },
    {
      "cell_type": "markdown",
      "source": "| Data Science Tools |\n| --- |\n| Jupyter Notebook |\n| R Studio |\n| Apache Spark |",
      "metadata": {}
    },
    {
      "cell_type": "markdown",
      "source": "### Below are a few examples of arithmetic expressions in Python\n(2+2)\n(2-1)\n(4*2)\n(2+2)*2/2",
      "metadata": {}
    },
    {
      "cell_type": "code",
      "source": "# This is an example of an executing an arithmetic expression\n(3*4)+5",
      "metadata": {
        "trusted": true
      },
      "outputs": [
        {
          "execution_count": 1,
          "output_type": "execute_result",
          "data": {
            "text/plain": "17"
          },
          "metadata": {}
        }
      ],
      "execution_count": 1
    },
    {
      "cell_type": "code",
      "source": "# This will convert minutes to hours by dividing by 60\nminutes = 200\n(minutes)/60",
      "metadata": {
        "trusted": true
      },
      "outputs": [
        {
          "execution_count": 5,
          "output_type": "execute_result",
          "data": {
            "text/plain": "3.3333333333333335"
          },
          "metadata": {}
        }
      ],
      "execution_count": 5
    },
    {
      "cell_type": "code",
      "source": "",
      "metadata": {
        "trusted": true
      },
      "outputs": [],
      "execution_count": null
    }
  ]
}